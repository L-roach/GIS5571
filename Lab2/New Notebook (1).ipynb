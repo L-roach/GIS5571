{
 "cells": [
  {
   "cell_type": "code",
   "execution_count": 7,
   "metadata": {},
   "outputs": [],
   "source": [
    "import pandas as pd\n",
    "import requests\n",
    "import zipfile\n",
    "import io\n",
    "import matplotlib.pyplot as plt\n"
   ]
  },
  {
   "cell_type": "code",
   "execution_count": 8,
   "metadata": {},
   "outputs": [
    {
     "name": "stdout",
     "output_type": "stream",
     "text": [
      "Downloading shapefile...\n",
      "Done\n"
     ]
    }
   ],
   "source": [
    "#downloading the files from the website\n",
    "url = 'https://resources.gisdata.mn.gov/pub/gdrs/data/pub/us_mn_state_dot/trans_bridges/shp_trans_bridges.zip'\n",
    "\n",
    "print('Downloading shapefile...')\n",
    "r = requests.get(url)\n",
    "z = zipfile.ZipFile(io.BytesIO(r.content))\n",
    "print(\"Done\")"
   ]
  },
  {
   "cell_type": "code",
   "execution_count": 10,
   "metadata": {},
   "outputs": [],
   "source": [
    "#extracting the files to a location\n",
    "z.extractall(path= r'C:\\Users\\roach258\\Documents\\ArcGIS\\Projects\\Lab2Part2') # extract to folder"
   ]
  },
  {
   "cell_type": "code",
   "execution_count": 11,
   "metadata": {},
   "outputs": [
    {
     "name": "stdout",
     "output_type": "stream",
     "text": [
      "['Bridge_locations_in_Minnesota.dbf', 'Bridge_locations_in_Minnesota.prj', 'Bridge_locations_in_Minnesota.shp', 'Bridge_locations_in_Minnesota.shx']\n"
     ]
    }
   ],
   "source": [
    "#to see the file names imported\n",
    "filenames = [y for y in sorted(z.namelist()) for ending in ['dbf', 'prj', 'shp', 'shx'] if y.endswith(ending)] \n",
    "print(filenames)"
   ]
  },
  {
   "cell_type": "code",
   "execution_count": 10,
   "metadata": {},
   "outputs": [],
   "source": [
    "bbox = [[-92.1532542995,44.0388220413],[-92.1540582204,44.1635770527],[-91.9661190296,44.1642009246],[-91.9653151087,44.0394472311],[-92.1532542995,44.0388220413]]\n",
    "\n",
    "\n",
    "import arcpy\n",
    "\n",
    "# Create a polygon geometry\n",
    "array = arcpy.Array([arcpy.Point(bbox[0][0],bbox[0][1]),\n",
    "                     arcpy.Point(bbox[1][0],bbox[1][1]),\n",
    "                     arcpy.Point(bbox[2][0],bbox[2][1]),\n",
    "                     arcpy.Point(bbox[3][0],bbox[3][1])\n",
    "                     ])\n",
    "\n",
    "# array = arcpy.Array([arcpy.Point(bbox[0][1],bbox[0][0]),\n",
    "#                      arcpy.Point(bbox[1][1],bbox[1][0]),\n",
    "#                      arcpy.Point(bbox[2][1],bbox[2][0]),\n",
    "#                      arcpy.Point(bbox[3][1],bbox[3][0])\n",
    "#                      ])\n",
    "rectangle = arcpy.Polygon(array)\n",
    "out_raster= r'C:\\Users\\roach258\\Documents\\ArcGIS\\Projects\\Lab2Part2'"
   ]
  },
  {
   "cell_type": "code",
   "execution_count": null,
   "metadata": {},
   "outputs": [],
   "source": [
    "#reclassify the slope raster to 1-10 scale\n",
    "arcpy.ddd.Reclassify(\"Slope_dem_Cl1\", \"VALUE\", \"0 3 1;3 6 2;6 10 3;10 15 4;15 20 5;20 25 6;25 30 7;30 40 8;40 60 9;60 100 10;100 1000 11\", r\"C:\\Users\\roach258\\Documents\\ArcGIS\\Projects\\Lab2Part2\\Lab2Part2.gdb\\Reclass_Slop1\", \"DATA\")"
   ]
  },
  {
   "cell_type": "code",
   "execution_count": null,
   "metadata": {},
   "outputs": [],
   "source": [
    "#weighted sum of reclassified slope and reclassified land cover\n",
    "#the slope has 0.6 weight and land cover 0.4 weight \n",
    "arcpy.ddd.Reclassify(\"Slope_dem_Cl1\", \"VALUE\", \"0 3 1;3 6 2;6 10 3;10 15 4;15 20 5;20 25 6;25 30 7;30 40 8;40 60 9;60 100 10;100 1000 11\", r\"C:\\Users\\roach258\\Documents\\ArcGIS\\Projects\\Lab2Part2\\Lab2Part2.gdb\\Reclass_Slop1\", \"DATA\")"
   ]
  },
  {
   "cell_type": "code",
   "execution_count": null,
   "metadata": {},
   "outputs": [],
   "source": [
    "#weighted sum again with slope 0.3 and land cover 0.7\n",
    "out_raster = arcpy.ia.WeightedSum(\"Reclass_Slop1 Value 0.3;Reclass_land2 Value 0.7\"); out_raster.save(r\"C:\\Users\\roach258\\Documents\\ArcGIS\\Projects\\Lab2Part2\\Lab2Part2.gdb\\Weighte_dory2\")"
   ]
  }
 ],
 "metadata": {
  "kernelspec": {
   "display_name": "ArcGISPro",
   "language": "Python",
   "name": "python3"
  },
  "language_info": {
   "file_extension": ".py",
   "name": "python",
   "version": "3"
  }
 },
 "nbformat": 4,
 "nbformat_minor": 2
}
