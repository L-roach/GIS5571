{
 "cells": [
  {
   "cell_type": "code",
   "execution_count": 1,
   "metadata": {},
   "outputs": [],
   "source": [
    "import arcpy\n",
    "import pandas as pd\n",
    "import io"
   ]
  },
  {
   "cell_type": "code",
   "execution_count": null,
   "metadata": {},
   "outputs": [],
   "source": [
    "44.127985, -92.148796\n",
    "\n",
    "# Set environment settings\n",
    "arcpy.env.workspace = r\"c:\\output.gdb\"\n",
    "\n",
    "# Set the local variables\n",
    "in_table = r\"c:\\data\\tree.csv\"\n",
    "out_feature_class = \"tree_points\"\n",
    "x_coords = \"longitude\"\n",
    "y_coords = \"latitude\"\n",
    "z_coords = \"elevation\"\n",
    "\n",
    "# Make the XY event layer...\n",
    "arcpy.management.XYTableToPoint(in_table, out_feature_class,\n",
    "                                x_coords, y_coords, z_coords,\n",
    "                                arcpy.SpatialReference(4759, 115700))\n",
    "\n",
    "# Print the total rows\n",
    "print(arcpy.management.GetCount(out_feature_class))"
   ]
  },
  {
   "cell_type": "code",
   "execution_count": 3,
   "metadata": {},
   "outputs": [
    {
     "ename": "ExecuteError",
     "evalue": "Failed to execute. Parameters are not valid.\nERROR 000732: Input Table: Dataset C:\\Users\\roach258\\Documents\\Lauren_Files\\Dora does not exist or is not supported\nERROR 000840: The value is not a Field.\nFailed to execute (XYTableToPoint).\n",
     "output_type": "error",
     "traceback": [
      "\u001b[0;31m---------------------------------------------------------------------------\u001b[0m\n\u001b[0;31mExecuteError\u001b[0m                              Traceback (most recent call last)",
      "In  \u001b[0;34m[3]\u001b[0m:\nLine \u001b[0;34m1\u001b[0m:     arcpy.management.XYTableToPoint(\u001b[33mr\u001b[39;49;00m\u001b[33m'\u001b[39;49;00m\u001b[33mC:\u001b[39;49;00m\u001b[33m\\\u001b[39;49;00m\u001b[33mUsers\u001b[39;49;00m\u001b[33m\\\u001b[39;49;00m\u001b[33mroach258\u001b[39;49;00m\u001b[33m\\\u001b[39;49;00m\u001b[33mDocuments\u001b[39;49;00m\u001b[33m\\\u001b[39;49;00m\u001b[33mLauren_Files\u001b[39;49;00m\u001b[33m\\\u001b[39;49;00m\u001b[33mDora\u001b[39;49;00m\u001b[33m'\u001b[39;49;00m, \u001b[33m'\u001b[39;49;00m\u001b[33mDora_Locations\u001b[39;49;00m\u001b[33m'\u001b[39;49;00m, \u001b[33m'\u001b[39;49;00m\u001b[33mX_long\u001b[39;49;00m\u001b[33m'\u001b[39;49;00m, \u001b[33m'\u001b[39;49;00m\u001b[33mY_lat\u001b[39;49;00m\u001b[33m'\u001b[39;49;00m, arcpy.SpatialReference(\u001b[34m4759\u001b[39;49;00m, \u001b[34m115700\u001b[39;49;00m))\n",
      "File \u001b[0;34mC:\\Program Files\\ArcGIS\\Pro\\Resources\\ArcPy\\arcpy\\management.py\u001b[0m, in \u001b[0;32mXYTableToPoint\u001b[0m:\nLine \u001b[0;34m5034\u001b[0m:  \u001b[34mraise\u001b[39;49;00m e\n",
      "File \u001b[0;34mC:\\Program Files\\ArcGIS\\Pro\\Resources\\ArcPy\\arcpy\\management.py\u001b[0m, in \u001b[0;32mXYTableToPoint\u001b[0m:\nLine \u001b[0;34m5031\u001b[0m:  retval = convertArcObjectToPythonObject(gp.XYTableToPoint_management(*gp_fixargs((in_table, out_feature_class, x_field, y_field, z_field, coordinate_system), \u001b[34mTrue\u001b[39;49;00m)))\n",
      "File \u001b[0;34mC:\\Program Files\\ArcGIS\\Pro\\Resources\\ArcPy\\arcpy\\geoprocessing\\_base.py\u001b[0m, in \u001b[0;32m<lambda>\u001b[0m:\nLine \u001b[0;34m512\u001b[0m:   \u001b[34mreturn\u001b[39;49;00m \u001b[34mlambda\u001b[39;49;00m *args: val(*gp_fixargs(args, \u001b[34mTrue\u001b[39;49;00m))\n",
      "\u001b[0;31mExecuteError\u001b[0m: Failed to execute. Parameters are not valid.\nERROR 000732: Input Table: Dataset C:\\Users\\roach258\\Documents\\Lauren_Files\\Dora does not exist or is not supported\nERROR 000840: The value is not a Field.\nFailed to execute (XYTableToPoint).\n\n\u001b[0;31m---------------------------------------------------------------------------\u001b[0m"
     ]
    }
   ],
   "source": [
    "arcpy.management.XYTableToPoint(r'C:\\Users\\roach258\\Documents\\Lauren_Files\\Dora', 'Dora_Locations', 'X_long', 'Y_lat', arcpy.SpatialReference(4759, 115700))"
   ]
  },
  {
   "cell_type": "code",
   "execution_count": null,
   "metadata": {},
   "outputs": [],
   "source": [
    "#XY table to point\n",
    "\n",
    "with arcpy.EnvManager(scratchWorkspace=r\"C:\\Users\\roach258\\Documents\\ArcGIS\\Projects\\Lab2Part2\\Lab2Part2.gdb\", workspace=r\"C:\\Users\\roach258\\Documents\\ArcGIS\\Projects\\Lab2Part2\\Lab2Part2.gdb\"):\n",
    "    arcpy.management.XYTableToPoint(\"Dora.csv\", r\"C:\\Users\\roach258\\Documents\\ArcGIS\\Projects\\Lab2Part2\\Lab2Part2.gdb\\Dora_XYTableToPoint\", \"X_long\", \"Y_lat\", None, 'GEOGCS[\"GCS_WGS_1984\",DATUM[\"D_WGS_1984\",SPHEROID[\"WGS_1984\",6378137.0,298.257223563]],PRIMEM[\"Greenwich\",0.0],UNIT[\"Degree\",0.0174532925199433]];-400 -400 1000000000;-100000 10000;-100000 10000;8.98315284119521E-09;0.001;0.001;IsHighPrecision')"
   ]
  },
  {
   "cell_type": "code",
   "execution_count": null,
   "metadata": {},
   "outputs": [],
   "source": [
    "# Set local variables\n",
    "inFeature = \"roads.shp\"\n",
    "outRaster = \"c:/output/roadsgrd\"\n",
    "cellSize = 25\n",
    "field = \"CLASS\"\n",
    "\n",
    "# Execute FeatureToRaster\n",
    "arcpy.FeatureToRaster_conversion(inFeature, field, outRaster, cellSize)"
   ]
  },
  {
   "cell_type": "code",
   "execution_count": null,
   "metadata": {},
   "outputs": [],
   "source": [
    "##previous code\n",
    "waterFile = arcpy.mp.LayerFile(r\"C:\\Users\\roach258\\Downloads\\shp_water_strahler_stream_order\\streams_with_strahler_stream_order.shp\")\n",
    "\n",
    "aprx = arcpy.mp.ArcGISProject(\"Current\")\n",
    "map = aprx.listMaps()[1]\n",
    "\n",
    "layer_path = <path>\n",
    "\n",
    "water = arcpy.MakeFeatureLayer_management(r'C:\\Users\\roach258\\Documents\\ArcGIS\\Labs\\TransitRoutes.shp', \"transit\")\n",
    "\n",
    "map.addDataFromPath(lyr)\n",
    "\n",
    "shp_path = r'C:\\Users\\roach258\\Documents\\ArcGIS\\Labs\\TransitRoutes.shp'\n",
    "\n",
    "aprx = arcpy.mp.ArcGISProject(\"CURRENT\")\n",
    "map = aprx.listMaps()[0]  # assumes data to be added to first map listed\n",
    "map.addDataFromPath(r'C:\\Users\\roach258\\Documents\\ArcGIS\\Labs\\TransitRoutes.shp')\n"
   ]
  },
  {
   "cell_type": "code",
   "execution_count": 4,
   "metadata": {},
   "outputs": [
    {
     "ename": "ValueError",
     "evalue": "C:\\Users\\roach258\\Downloads\\shp_water_strahler_stream_order\\streams_with_strahler_stream_order.shp",
     "output_type": "error",
     "traceback": [
      "\u001b[0;31m---------------------------------------------------------------------------\u001b[0m\n\u001b[0;31mValueError\u001b[0m                                Traceback (most recent call last)",
      "In  \u001b[0;34m[4]\u001b[0m:\nLine \u001b[0;34m1\u001b[0m:     waterFile = arcpy.mp.LayerFile(\u001b[33mr\u001b[39;49;00m\u001b[33m\"\u001b[39;49;00m\u001b[33mC:\u001b[39;49;00m\u001b[33m\\\u001b[39;49;00m\u001b[33mUsers\u001b[39;49;00m\u001b[33m\\\u001b[39;49;00m\u001b[33mroach258\u001b[39;49;00m\u001b[33m\\\u001b[39;49;00m\u001b[33mDownloads\u001b[39;49;00m\u001b[33m\\\u001b[39;49;00m\u001b[33mshp_water_strahler_stream_order\u001b[39;49;00m\u001b[33m\\\u001b[39;49;00m\u001b[33mstreams_with_strahler_stream_order.shp\u001b[39;49;00m\u001b[33m\"\u001b[39;49;00m)\n",
      "File \u001b[0;34mC:\\Program Files\\ArcGIS\\Pro\\Resources\\ArcPy\\arcpy\\_mp.py\u001b[0m, in \u001b[0;32m__init__\u001b[0m:\nLine \u001b[0;34m957\u001b[0m:   \u001b[36mself\u001b[39;49;00m._arc_object = arcgisscripting._mapping.LayerFile(*gp_fixargs((layer_file_path,), \u001b[34mTrue\u001b[39;49;00m))\n",
      "\u001b[0;31mValueError\u001b[0m: C:\\Users\\roach258\\Downloads\\shp_water_strahler_stream_order\\streams_with_strahler_stream_order.shp\n\u001b[0;31m---------------------------------------------------------------------------\u001b[0m"
     ]
    }
   ],
   "source": [
    "waterFile = arcpy.mp.LayerFile(r\"C:\\Users\\roach258\\Downloads\\shp_water_strahler_stream_order\\streams_with_strahler_stream_order.shp\")\n",
    "\n",
    "aprx = arcpy.mp.ArcGISProject(\"Current\")\n",
    "map = aprx.listMaps()[1]\n",
    "\n",
    "m.addLayer(lyrFile, \"TOP\")"
   ]
  },
  {
   "cell_type": "code",
   "execution_count": 11,
   "metadata": {},
   "outputs": [
    {
     "name": "stderr",
     "output_type": "stream",
     "text": [
      "C:\\Program Files\\ArcGIS\\Pro\\bin\\Python\\envs\\arcgispro-py3\\lib\\site-packages\\urllib3\\connectionpool.py:1043: InsecureRequestWarning: Unverified HTTPS request is being made to host 'gisdata.mn.gov'. Adding certificate verification is strongly advised. See: https://urllib3.readthedocs.io/en/1.26.x/advanced-usage.html#ssl-warnings\n",
      "  warnings.warn(\n"
     ]
    },
    {
     "name": "stdout",
     "output_type": "stream",
     "text": [
      "{'cache_last_updated': None,\n",
      " 'cache_url': None,\n",
      " 'created': '2020-07-09T08:14:39.151808',\n",
      " 'description': '',\n",
      " 'format': 'tif',\n",
      " 'gdrsResGuid': '{36089bbd-413d-48a2-9208-731e735b48e7}',\n",
      " 'hash': '',\n",
      " 'id': '139066ed-25df-43f5-b012-d0efce870cbf',\n",
      " 'last_modified': None,\n",
      " 'mimetype': None,\n",
      " 'mimetype_inner': None,\n",
      " 'name': 'TIFF Raster',\n",
      " 'package_id': '0fc569f0-2d29-40fd-82c0-ad68a1840f1e',\n",
      " 'position': 2,\n",
      " 'resource_type': 'tif',\n",
      " 'revision_id': '367cb423-ea25-4a57-9f7b-f97aee7e17d9',\n",
      " 'size': None,\n",
      " 'state': 'active',\n",
      " 'url': 'https://resources.gisdata.mn.gov/pub/gdrs/data/pub/edu_umn/base_landcover_minnesota/tif_base_landcover_minnesota.zip',\n",
      " 'url_type': None}\n"
     ]
    }
   ],
   "source": [
    "import requests \n",
    "import zipfile\n",
    "import pprint\n",
    "import json\n",
    "\n",
    "#getting the land cover information\n",
    "#identifying the tags for the type of info needed\n",
    "groups = 'imagery-basemaps'\n",
    "tag1= 'impervious surface area'\n",
    "tag2= 'land cover'\n",
    "tag3= 'landsat'\n",
    "tag4= 'lidar'\n",
    "tag5= 'object based image classification'\n",
    "base_url= \"http://gisdata.mn.gov/api/3/action/package_search?q=\"\n",
    "\n",
    "#building the extraction equation\n",
    "\n",
    "package_information_url = base_url + groups + tag1 + tag2\n",
    "\n",
    "#requesting this info from the MN Geospatial Commons\n",
    "\n",
    "package_information = requests.get(package_information_url, auth = ('user', 'pass'), verify = False)\n",
    "\n",
    "#converting all the information to a json dictionary\n",
    "package_dict = json.loads(package_information.content)\n",
    "\n",
    "#grabbing the result\n",
    "package_dict_result = package_dict[\"result\"]['results']\n",
    "\n",
    "pprint.pprint(package_dict_result[0]['resources'][2])"
   ]
  },
  {
   "cell_type": "code",
   "execution_count": 22,
   "metadata": {},
   "outputs": [
    {
     "name": "stdout",
     "output_type": "stream",
     "text": [
      "extracting...\n"
     ]
    }
   ],
   "source": [
    "#requesting the data and extracting it with zipfile\n",
    "r = requests.get(package_dict_result[0]['resources'][2]['url'])\n",
    "open('tif_base_landcover_minnesota.zip', 'wb').write(r.content)\n",
    "print('extracting...')"
   ]
  },
  {
   "cell_type": "code",
   "execution_count": 23,
   "metadata": {},
   "outputs": [
    {
     "name": "stdout",
     "output_type": "stream",
     "text": [
      "unzipped\n"
     ]
    }
   ],
   "source": [
    "#unzip the extracted file\n",
    "\n",
    "with zipfile.ZipFile('tif_base_landcover_minnesota.zip', 'r') as zip_ref:\n",
    "    zip_ref.extractall(r\"C:\\Users\\roach258\\Documents\\ArcGIS\\Labs\\Lab 2\")\n",
    "print('unzipped')"
   ]
  },
  {
   "cell_type": "code",
   "execution_count": null,
   "metadata": {},
   "outputs": [],
   "source": [
    "#streamlines from the MN Geospatial Commons\n",
    "#code gets the shapefile downloaded and unzipped into folder"
   ]
  },
  {
   "cell_type": "code",
   "execution_count": 25,
   "metadata": {},
   "outputs": [
    {
     "name": "stdout",
     "output_type": "stream",
     "text": [
      "downloading shapefile...\n",
      "done\n",
      "['streams_with_strahler_stream_order.dbf', 'streams_with_strahler_stream_order.prj', 'streams_with_strahler_stream_order.shp', 'streams_with_strahler_stream_order.shx']\n"
     ]
    }
   ],
   "source": [
    "url = r'https://resources.gisdata.mn.gov/pub/gdrs/data/pub/us_mn_state_dnr/water_strahler_stream_order/shp_water_strahler_stream_order.zip'\n",
    "local_path = r'C:\\Users\\roach258\\Documents\\ArcGIS\\Labs\\Lab 2'\n",
    "\n",
    "print('downloading shapefile...')\n",
    "r= requests.get(url)\n",
    "z= zipfile.ZipFile(io.BytesIO(r.content))\n",
    "print(\"done\")\n",
    "\n",
    "z.extractall(path=local_path)\n",
    "filenames = [y for y in sorted(z.namelist()) for ending in ['dbf', 'prj', 'shp', 'shx'] if y.endswith(ending)]\n",
    "print(filenames)"
   ]
  },
  {
   "cell_type": "code",
   "execution_count": null,
   "metadata": {},
   "outputs": [],
   "source": [
    "#extracting the elevation data from MN Geospatial Commons\n"
   ]
  },
  {
   "cell_type": "code",
   "execution_count": null,
   "metadata": {},
   "outputs": [],
   "source": [
    "##code NOT run\n",
    "\n",
    "groups = 'elevation'\n",
    "tag1= 'model'\n",
    "tag2= 'slope'\n",
    "tag3= 'elevation'\n",
    "base_url = \"http://gisdata.mn.gov/api/3/action/package_search?q=\"\n",
    "\n",
    "#the equation for extraction\n",
    "package_information_url = base_url + groups\n",
    "#requesting MN Geospatial for elevation data\n",
    "package_information = requests.get(package_information_url, auth = ('user', 'pass'), verify = False)\n",
    "#converting the requested information to a json dictionary\n",
    "package_dict= json.loads(package_information.content)\n",
    "package_dict_result= package_dict[\"result\"]['results']\n",
    "\n",
    "#getting the zipfile and unzipping \n",
    "r = requests.get(package_dict_result[3]['resources'][1]['url'])\n",
    "open"
   ]
  },
  {
   "cell_type": "code",
   "execution_count": 27,
   "metadata": {},
   "outputs": [
    {
     "name": "stdout",
     "output_type": "stream",
     "text": [
      "downloading file...\n",
      "done\n",
      "[]\n",
      "downloading file...\n",
      "done\n",
      "[]\n"
     ]
    }
   ],
   "source": [
    "#grabbing elevation zipfile from MN Geospatial Commons\n",
    "\n",
    "url = r'https://resources.gisdata.mn.gov/pub/gdrs/data/pub/us_mn_state_dnr/elev_30m_digital_elevation_model/fgdb_elev_30m_digital_elevation_model.zip'\n",
    "local_path = r'C:\\Users\\roach258\\Documents\\ArcGIS\\Labs\\Lab 2'\n",
    "\n",
    "print('downloading file...')\n",
    "r= requests.get(url)\n",
    "z= zipfile.ZipFile(io.BytesIO(r.content))\n",
    "print(\"done\")\n",
    "\n",
    "z.extractall(path=local_path)\n",
    "filenames = [y for y in sorted(z.namelist()) for ending in ['dbf', 'prj', 'shp', 'shx'] if y.endswith(ending)]\n",
    "print(filenames)\n",
    "local_path = r'C:\\Users\\roach258\\Documents\\ArcGIS\\Labs\\Lab 2'\n",
    "\n",
    "print('downloading file...')\n",
    "r= requests.get(url)\n",
    "z= zipfile.ZipFile(io.BytesIO(r.content))\n",
    "print(\"done\")\n",
    "\n",
    "z.extractall(path=local_path)\n",
    "filenames = [y for y in sorted(z.namelist()) for ending in ['dbf', 'prj', 'shp', 'shx'] if y.endswith(ending)]\n",
    "print(filenames)"
   ]
  },
  {
   "cell_type": "code",
   "execution_count": 29,
   "metadata": {},
   "outputs": [],
   "source": [
    "#creating a box around the area of interest from four coordinate points \n",
    "#point to line tool\n",
    "\n",
    "arcpy.management.PointsToLine(\"doraBOX\", r\"C:\\Users\\roach258\\Documents\\ArcGIS\\Projects\\Lab2Part2\\Lab2Part2.gdb\\doraBOX_PointsToLine\", None, None, \"CLOSE\")"
   ]
  },
  {
   "cell_type": "code",
   "execution_count": null,
   "metadata": {},
   "outputs": [],
   "source": [
    "#Clipping the rasters to the area of interest\n",
    "\n",
    "arcpy.management.Clip(\"landcover_impervious_statewide2013_v2.tif\", \"561249.42323728 4875074.95505521 581949.604917379 4891154.05132652\", r\"C:\\Users\\roach258\\Documents\\ArcGIS\\Projects\\Lab2Part2\\Lab2Part2.gdb\\landcoverCLIP\", \"doraBOX_PointsToLine\", \"255\", \"NONE\", \"NO_MAINTAIN_EXTENT\")\n",
    "arcpy.management.Clip(\"digital_elevation_model_30m\", \"561249.42323728 4875074.95505521 581949.604917379 4891154.05132652\", r\"C:\\Users\\roach258\\Documents\\ArcGIS\\Projects\\Lab2Part2\\Lab2Part2.gdb\\demCLIP\", \"doraBOX_PointsToLine\", \"32767\", \"NONE\", \"NO_MAINTAIN_EXTENT\")\n",
    "\n",
    "#making the streams polyline layer to raster\n",
    "arcpy.conversion.PolylineToRaster(\"streams_with_strahler_stream_order\", \"FID\", r\"C:\\Users\\roach258\\Documents\\ArcGIS\\Projects\\Lab2Part2\\Lab2Part2.gdb\\streams_Raster\", \"MAXIMUM_LENGTH\", \"NONE\", 2400, \"BUILD\")\n",
    "#clipping the streams\n",
    "arcpy.management.Clip(\"streams_Raster\", \"561249.42323728 4875074.95505521 581949.604917379 4891154.05132652\", r\"C:\\Users\\roach258\\Documents\\ArcGIS\\Projects\\Lab2Part2\\Lab2Part2.gdb\\streams_Raster_Clip\", \"doraBOX_PointsToLine\", \"2147483647\", \"NONE\", \"NO_MAINTAIN_EXTENT\")\n",
    "\n"
   ]
  },
  {
   "cell_type": "code",
   "execution_count": null,
   "metadata": {},
   "outputs": [],
   "source": [
    "#creating a slope raster from the DEM\n",
    "#using percent rise\n",
    "arcpy.ddd.Slope(\"dem_Clip3\", r\"C:\\Users\\roach258\\Documents\\ArcGIS\\Projects\\Lab2Part2\\Lab2Part2.gdb\\Slope_dem_Cl1\", \"PERCENT_RISE\", 1, \"PLANAR\", \"METER\")"
   ]
  },
  {
   "cell_type": "code",
   "execution_count": null,
   "metadata": {},
   "outputs": [],
   "source": [
    "#reclassify the land cover raster so that the water and farm fields are high and undesirable walking spaces\n",
    "arcpy.ddd.Reclassify(\"landcoverCLIP\", \"Value\", \"1 5;2 5;3 5;4 5;5 5;6 5;7 5;8 5;9 5;10 5;11 5;12 5;13 5;14 5;15 5;16 5;17 5;18 5;19 5;20 5;21 5;22 5;23 5;24 5;25 5;26 5;27 5;28 5;29 5;30 5;31 5;32 5;33 5;34 5;35 5;36 5;37 5;38 5;39 5;40 5;41 5;42 5;43 5;44 5;45 5;46 5;47 5;48 5;49 5;50 5;51 5;52 5;53 5;54 5;55 5;56 5;57 5;58 5;59 5;60 5;61 5;62 5;63 5;64 5;65 5;66 5;67 5;68 5;69 5;70 5;71 5;72 5;73 5;74 5;75 5;76 5;77 5;78 5;79 5;80 5;81 5;82 5;83 5;84 5;85 5;86 5;87 5;88 5;89 5;90 5;91 5;92 5;93 5;94 5;95 5;96 5;97 5;98 5;99 5;100 10;101 10;102 10;103 10;105 10;106 1;107 2;108 3;109 6;110 9\", r\"C:\\Users\\roach258\\Documents\\ArcGIS\\Projects\\Lab2Part2\\Lab2Part2.gdb\\Reclass_land2\", \"DATA\")\n"
   ]
  },
  {
   "cell_type": "code",
   "execution_count": null,
   "metadata": {},
   "outputs": [],
   "source": [
    "#optimal region connections\n",
    "with arcpy.EnvManager(pyramid=\"NONE\"):\n",
    "    arcpy.sa.OptimalRegionConnections(\"Dora_XYTableToPoint\", r\"C:\\Users\\roach258\\Documents\\ArcGIS\\Projects\\Lab2Part2\\Lab2Part2.gdb\\Optimal_Dora_XY4\", None, \"Weighte_dory2\", None, \"PLANAR\", \"GENERATE_CONNECTIONS\")"
   ]
  },
  {
   "cell_type": "code",
   "execution_count": null,
   "metadata": {},
   "outputs": [],
   "source": [
    "#create flow direction out of slope raster\n",
    "out_flow_direction_raster = arcpy.sa.FlowDirection(\"Slope_dem_Cl1_blue\", \"NORMAL\", None, \"D8\"); out_flow_direction_raster.save(r\"C:\\Users\\roach258\\Documents\\ArcGIS\\Projects\\Lab2Part2\\Lab2Part2.gdb\\FlowDir_Slop1\")"
   ]
  },
  {
   "cell_type": "code",
   "execution_count": null,
   "metadata": {},
   "outputs": [],
   "source": [
    "#optimal path as line\n",
    "arcpy.sa.OptimalPathAsLine(\"Dora_XYTableToPoint\", \"Weighte_dory2\", \"FlowDir_Slop1\", r\"C:\\Users\\roach258\\Documents\\ArcGIS\\Projects\\Lab2Part2\\Lab2Part2.gdb\\Optimal_Dora_XY5\", \"OBJECTID\", \"EACH_ZONE\", \"DESTINATIONS_TO_SOURCES\")"
   ]
  }
 ],
 "metadata": {
  "kernelspec": {
   "display_name": "ArcGISPro",
   "language": "Python",
   "name": "python3"
  },
  "language_info": {
   "file_extension": ".py",
   "name": "python",
   "version": "3"
  }
 },
 "nbformat": 4,
 "nbformat_minor": 2
}
