{
 "cells": [
  {
   "cell_type": "code",
   "execution_count": null,
   "metadata": {},
   "outputs": [],
   "source": [
    "#Esri toolbox from the MN DNR website\n",
    "https://resources.gisdata.mn.gov/pub/gdrs/apps/pub/us_mn_state_dnr/dnr_arcgis_toolbox.zip\n",
    "    \n",
    "#geodatabase for lidar data of Ramsey county\n",
    "https://resources.gisdata.mn.gov/pub/data/elevation/lidar/county/ramsey/geodatabase/\n",
    "    #from this link: https://resources.gisdata.mn.gov/pub/data/elevation/lidar/county/ramsey/\n",
    "    ##NOT GOOD\n",
    "\n",
    "##USE THIS:\n",
    "https://resources.gisdata.mn.gov/pub/data/elevation/lidar/examples/lidar_sample/las/\n",
    "    \n",
    "#convert lidar to dem resource\n",
    "https://www.caee.utexas.edu/prof/maidment/CE365KSpr15/Terrain/Terrain.pdf\n",
    "    ArcGIS help: https://desktop.arcgis.com/en/arcmap/10.3/manage-data/las-dataset/lidar-solutions-creating-raster-dems-and-dsms-from-large-lidar-point-collections.htm\n",
    "\n",
    "#python command for create las dataset\n",
    "\n",
    "arcpy.management.CreateLasDataset(r\"C:\\Users\\roach258\\Downloads\\4342-13-07(2).las\", r\"C:\\Users\\roach258\\Documents\\ArcGIS\\Projects\\MyProject\\c4342-13-07(2)_LasDataset.lasd\", \"NO_RECURSION\", None, 'PROJCS[\"NAD_1983_UTM_Zone_15N\",GEOGCS[\"GCS_North_American_1983\",DATUM[\"D_North_American_1983\",SPHEROID[\"GRS_1980\",6378137.0,298.257222101]],PRIMEM[\"Greenwich\",0.0],UNIT[\"Degree\",0.0174532925199433]],PROJECTION[\"Transverse_Mercator\"],PARAMETER[\"False_Easting\",500000.0],PARAMETER[\"False_Northing\",0.0],PARAMETER[\"Central_Meridian\",-93.0],PARAMETER[\"Scale_Factor\",0.9996],PARAMETER[\"Latitude_Of_Origin\",0.0],UNIT[\"Meter\",1.0]],VERTCS[\"NAVD_1988\",VDATUM[\"North_American_Vertical_Datum_1988\"],PARAMETER[\"Vertical_Shift\",0.0],PARAMETER[\"Direction\",1.0],UNIT[\"Meter\",1.0]]', \"COMPUTE_STATS\", \"ABSOLUTE_PATHS\", \"NO_FILES\", \"DEFAULT\", None, \"INTERSECTED_FILES\")\n",
    "\n",
    "\n",
    "\n",
    "#python command for create raster from dataset\n",
    "arcpy.conversion.LasDatasetToRaster(\"c4342-13-07(2)_LasDataset.lasd\", r\"c:\\users\\roach258\\documents\\arcgis\\projects\\myproject\\myproject.gdb\\c43421_lasda\", \"ELEVATION\", \"BINNING AVERAGE LINEAR\", \"FLOAT\", \"CELLSIZE\", 10, 1)\n",
    "\n",
    "##This is the history of what I did in arcgis pro\n",
    "\n",
    "#extract las\n",
    "arcpy.ddd.ExtractLas(\"4342-13-07.las\", r\"C:\\Users\\roach258\\Downloads\", \"DEFAULT\", None, \"PROCESS_EXTENT\", '', \"MAINTAIN_VLR\", \"REARRANGE_POINTS\", \"COMPUTE_STATS\", r\"C:\\Users\\roach258\\Documents\\ArcGIS\\Projects\\MyProject\\output.lasd\", \"SAME_AS_INPUT\")\n",
    "\n",
    "#create las dataset\n",
    "arcpy.management.CreateLasDataset(r\"C:\\Users\\roach258\\Downloads\\4342-13-07(2).las\", r\"C:\\Users\\roach258\\Documents\\ArcGIS\\Projects\\MyProject\\c4342-13-07(2)_LasDataset.lasd\", \"NO_RECURSION\", None, 'PROJCS[\"NAD_1983_UTM_Zone_15N\",GEOGCS[\"GCS_North_American_1983\",DATUM[\"D_North_American_1983\",SPHEROID[\"GRS_1980\",6378137.0,298.257222101]],PRIMEM[\"Greenwich\",0.0],UNIT[\"Degree\",0.0174532925199433]],PROJECTION[\"Transverse_Mercator\"],PARAMETER[\"False_Easting\",500000.0],PARAMETER[\"False_Northing\",0.0],PARAMETER[\"Central_Meridian\",-93.0],PARAMETER[\"Scale_Factor\",0.9996],PARAMETER[\"Latitude_Of_Origin\",0.0],UNIT[\"Meter\",1.0]],VERTCS[\"NAVD_1988\",VDATUM[\"North_American_Vertical_Datum_1988\"],PARAMETER[\"Vertical_Shift\",0.0],PARAMETER[\"Direction\",1.0],UNIT[\"Meter\",1.0]]', \"COMPUTE_STATS\", \"ABSOLUTE_PATHS\", \"NO_FILES\", \"DEFAULT\", None, \"INTERSECTED_FILES\")\n",
    "\n",
    "#las dataset to raster\n",
    "arcpy.conversion.LasDatasetToRaster(\"c4342-13-07(2)_LasDataset.lasd\", r\"c:\\users\\roach258\\documents\\arcgis\\projects\\myproject\\myproject.gdb\\c43421_lasda\", \"ELEVATION\", \"BINNING AVERAGE LINEAR\", \"FLOAT\", \"CELLSIZE\", 10, 1)\n",
    "\n",
    "#raster to tin\n",
    "arcpy.ddd.RasterTin(\"c43421_lasda\", r\"C:\\Users\\roach258\\Documents\\ArcGIS\\Projects\\MyProject\\c43421_lasda_RasterTin\", 9.11, 1500000, 1)\n",
    "\n",
    "#raster to tin again\n",
    "arcpy.ddd.RasterTin(\"c43421_lasda\", r\"C:\\Users\\roach258\\Documents\\ArcGIS\\Projects\\MyProject\\c43421_lasda_RasterTin\", 2, 1000000, 1)\n",
    "\n",
    "#and again\n",
    "arcpy.ddd.RasterTin(\"c43421_lasda\", r\"C:\\Users\\roach258\\Documents\\ArcGIS\\Projects\\MyProject\\c43421_lasda_RasterTin4.0\", 100, 15000000, 1)\n",
    "\n",
    "#and again\n",
    "arcpy.ddd.RasterTin(\"c43421_lasda\", r\"C:\\Users\\roach258\\Documents\\ArcGIS\\Projects\\MyProject\\c43421_lasda_RasterTin5.0\", 1, 15000000, 1)\n"
   ]
  },
  {
   "cell_type": "code",
   "execution_count": null,
   "metadata": {},
   "outputs": [],
   "source": [
    "C:\\Users\\roach258\\Documents\\ArcGIS\\Labs\\Lab 2"
   ]
  },
  {
   "cell_type": "code",
   "execution_count": 1,
   "metadata": {},
   "outputs": [],
   "source": [
    "import requests\n",
    "import arcpy\n",
    "import zipfile\n",
    "import json\n",
    "import pprint"
   ]
  },
  {
   "cell_type": "code",
   "execution_count": null,
   "metadata": {},
   "outputs": [],
   "source": [
    "arcpy.env.workspace = r\"C:\\Users\\roach258\\Documents\\ArcGIS\\Labs\\Lab 2\"\n",
    "\n",
    "base_url = \"https://resources.gisdata.mn.gov/pub/data/elevation/lidar/examples/lidar_sample/las/\"\n",
    "filename = \"4342-13-07.las\"\n",
    "page = requests.get(base_url + filename)\n",
    "\n",
    "open(\"4342-13-07.las\", 'wb').write(page.content)\n",
    "print('extracting')"
   ]
  },
  {
   "cell_type": "code",
   "execution_count": 33,
   "metadata": {},
   "outputs": [
    {
     "data": {
      "text/html": [
       "<div class='gpresult'><h2>Messages</h2><div id='messages' data-messages='[\"Start Time: Tuesday, November 1, 2022 9:05:36 PM\",\"Succeeded at Tuesday, November 1, 2022 9:05:38 PM (Elapsed Time: 2.32 seconds)\"]' data-show='true'><div id = 'default' /></div></div>"
      ],
      "text/plain": [
       "<Result 'C:\\\\Users\\\\roach258\\\\Documents\\\\ArcGIS\\\\Labs\\\\Lab 2\\\\output.lasd'>"
      ]
     },
     "execution_count": 33,
     "metadata": {},
     "output_type": "execute_result"
    }
   ],
   "source": [
    "#extract las\n",
    "arcpy.ddd.ExtractLas(\"4342-13-07.las\", r\"C:\\Users\\roach258\\Documents\\ArcGIS\\Labs\\Lab 2\", \"DEFAULT\", None, \"PROCESS_EXTENT\", '', \"MAINTAIN_VLR\", \"REARRANGE_POINTS\", \"COMPUTE_STATS\", r\"C:\\Users\\roach258\\Documents\\ArcGIS\\Labs\\Lab 2\\output.lasd\", \"SAME_AS_INPUT\")\n"
   ]
  },
  {
   "cell_type": "code",
   "execution_count": 34,
   "metadata": {},
   "outputs": [
    {
     "data": {
      "text/html": [
       "<div class='gpresult'><h2>Messages</h2><div id='messages' data-messages='[\"Start Time: Tuesday, November 1, 2022 9:07:48 PM\",\"Succeeded at Tuesday, November 1, 2022 9:07:48 PM (Elapsed Time: 0.13 seconds)\"]' data-show='true'><div id = 'default' /></div></div>"
      ],
      "text/plain": [
       "<Result 'C:\\\\Users\\\\roach258\\\\Documents\\\\ArcGIS\\\\Labs\\\\Lab 2\\\\c4342-13-07_LasDataset.lasd'>"
      ]
     },
     "execution_count": 34,
     "metadata": {},
     "output_type": "execute_result"
    }
   ],
   "source": [
    "#create las dataset\n",
    "arcpy.management.CreateLasDataset(r\"C:\\Users\\roach258\\Documents\\ArcGIS\\Labs\\Lab 2\\4342-13-07.las\", r\"C:\\Users\\roach258\\Documents\\ArcGIS\\Labs\\Lab 2\\c4342-13-07_LasDataset.lasd\", \"NO_RECURSION\", None, 'PROJCS[\"NAD_1983_UTM_Zone_15N\",GEOGCS[\"GCS_North_American_1983\",DATUM[\"D_North_American_1983\",SPHEROID[\"GRS_1980\",6378137.0,298.257222101]],PRIMEM[\"Greenwich\",0.0],UNIT[\"Degree\",0.0174532925199433]],PROJECTION[\"Transverse_Mercator\"],PARAMETER[\"False_Easting\",500000.0],PARAMETER[\"False_Northing\",0.0],PARAMETER[\"Central_Meridian\",-93.0],PARAMETER[\"Scale_Factor\",0.9996],PARAMETER[\"Latitude_Of_Origin\",0.0],UNIT[\"Meter\",1.0]],VERTCS[\"NAVD_1988\",VDATUM[\"North_American_Vertical_Datum_1988\"],PARAMETER[\"Vertical_Shift\",0.0],PARAMETER[\"Direction\",1.0],UNIT[\"Meter\",1.0]]', \"COMPUTE_STATS\", \"ABSOLUTE_PATHS\", \"NO_FILES\", \"DEFAULT\", None, \"INTERSECTED_FILES\")\n"
   ]
  },
  {
   "cell_type": "code",
   "execution_count": 35,
   "metadata": {},
   "outputs": [
    {
     "data": {
      "text/html": [
       "<div class='gpresult'><h2>Messages</h2><div id='messages' data-messages='[\"Start Time: Tuesday, November 1, 2022 9:11:28 PM\",\"Succeeded at Tuesday, November 1, 2022 9:11:31 PM (Elapsed Time: 2.85 seconds)\"]' data-show='true'><div id = 'default' /></div></div>"
      ],
      "text/plain": [
       "<Result 'C:\\\\Users\\\\roach258\\\\Documents\\\\ArcGIS\\\\Labs\\\\Lab 2\\\\c43421_lasda_RasterTin5.0'>"
      ]
     },
     "execution_count": 35,
     "metadata": {},
     "output_type": "execute_result"
    }
   ],
   "source": [
    "#las dataset to raster\n",
    "arcpy.conversion.LasDatasetToRaster(\"c4342-13-07_LasDataset.lasd\", r\"c:\\users\\roach258\\Documents\\ArcGIS\\Labs\\Lab 2\\c43421_lasda\", \"ELEVATION\", \"BINNING AVERAGE LINEAR\", \"FLOAT\", \"CELLSIZE\", 10, 1)\n",
    "\n",
    "#raster to tin\n",
    "arcpy.ddd.RasterTin(\"c43421_lasda\", r\"C:\\Users\\roach258\\Documents\\ArcGIS\\Labs\\Lab 2\\c43421_lasda_RasterTin\", 9.11, 1500000, 1)\n",
    "\n",
    "#raster to tin again\n",
    "arcpy.ddd.RasterTin(\"c43421_lasda\", r\"C:\\Users\\roach258\\Documents\\ArcGIS\\Labs\\Lab 2\\c43421_lasda_RasterTin\", 2, 1000000, 1)\n",
    "\n",
    "#and again\n",
    "arcpy.ddd.RasterTin(\"c43421_lasda\", r\"C:\\Users\\roach258\\Documents\\ArcGIS\\Labs\\Lab 2\\c43421_lasda_RasterTin4.0\", 100, 15000000, 1)\n",
    "\n",
    "#and again\n",
    "arcpy.ddd.RasterTin(\"c43421_lasda\", r\"C:\\Users\\roach258\\Documents\\ArcGIS\\Labs\\Lab 2\\c43421_lasda_RasterTin5.0\", 1, 15000000, 1)\n"
   ]
  },
  {
   "cell_type": "code",
   "execution_count": null,
   "metadata": {},
   "outputs": [],
   "source": [
    "#z tolerance at 1000 and 1.5 million max number points, z factor 1\n",
    "arcpy.ddd.RasterTin(\"c43421_lasda_one\", r\"C:\\Users\\roach258\\Documents\\ArcGIS\\Projects\\Lab2Part2\\c43421_lasda_one_RasterTin\", 1000, 1500000, 1)\n",
    "\n"
   ]
  },
  {
   "cell_type": "code",
   "execution_count": null,
   "metadata": {},
   "outputs": [],
   "source": [
    "#z tolerance 10\n",
    "arcpy.ddd.RasterTin(\"c43421_lasda_one\", r\"C:\\Users\\roach258\\Documents\\ArcGIS\\Projects\\Lab2Part2\\c43421_lasda_z10_RasterTin\", 10, 1500000, 1)"
   ]
  },
  {
   "cell_type": "code",
   "execution_count": null,
   "metadata": {},
   "outputs": [],
   "source": [
    "#z tolerance 10 and max points 1000\n"
   ]
  },
  {
   "cell_type": "code",
   "execution_count": null,
   "metadata": {},
   "outputs": [],
   "source": [
    "#recommended z tolerance and other features (z is 9.11 and 1.5 million max points and z factor 1)\n",
    "arcpy.ddd.RasterTin(\"c43421_lasda\", r\"C:\\Users\\roach258\\Documents\\ArcGIS\\Labs\\Lab 2\\c43421_lasda_RasterTin\", 9.11, 1500000, 1)"
   ]
  }
 ],
 "metadata": {
  "kernelspec": {
   "display_name": "ArcGISPro",
   "language": "Python",
   "name": "python3"
  },
  "language_info": {
   "file_extension": ".py",
   "name": "python",
   "version": "3"
  }
 },
 "nbformat": 4,
 "nbformat_minor": 2
}
