{
 "cells": [
  {
   "cell_type": "markdown",
   "metadata": {},
   "source": [
    "## Welcome to your notebook.\n"
   ]
  },
  {
   "cell_type": "markdown",
   "metadata": {},
   "source": [
    "#### Run this cell to connect to your GIS and get started:"
   ]
  },
  {
   "cell_type": "code",
   "execution_count": 1,
   "metadata": {},
   "outputs": [
    {
     "name": "stderr",
     "output_type": "stream",
     "text": [
      "/opt/conda/lib/python3.9/site-packages/arcgis/gis/__init__.py:597: UserWarning: You are logged on as roach258_UMN with an administrator role, proceed with caution.\n",
      "  warnings.warn(\n"
     ]
    }
   ],
   "source": [
    "from arcgis.gis import GIS\n",
    "gis = GIS(\"home\")"
   ]
  },
  {
   "cell_type": "markdown",
   "metadata": {},
   "source": [
    "#### Now you are ready to start!"
   ]
  },
  {
   "cell_type": "code",
   "execution_count": 4,
   "metadata": {},
   "outputs": [],
   "source": [
    "routes = gis.content.get('fa6a24419b5647b9bed6ce78cdf2856f')"
   ]
  },
  {
   "cell_type": "code",
   "execution_count": null,
   "metadata": {},
   "outputs": [],
   "source": []
  },
  {
   "cell_type": "code",
   "execution_count": 5,
   "metadata": {},
   "outputs": [
    {
     "data": {
      "text/html": [
       "<div class=\"item_container\" style=\"height: auto; overflow: hidden; border: 1px solid #cfcfcf; border-radius: 2px; background: #f6fafa; line-height: 1.21429em; padding: 10px;\">\n",
       "                    <div class=\"item_left\" style=\"width: 210px; float: left;\">\n",
       "                       <a href='https://www.arcgis.com/home/item.html?id=fa6a24419b5647b9bed6ce78cdf2856f' target='_blank'>\n",
       "                        <img src='data:image/png;base64,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' width='200' height='133' class=\"itemThumbnail\">\n",
       "                       </a>\n",
       "                    </div>\n",
       "\n",
       "                    <div class=\"item_right\"     style=\"float: none; width: auto; overflow: hidden;\">\n",
       "                        <a href='https://www.arcgis.com/home/item.html?id=fa6a24419b5647b9bed6ce78cdf2856f' target='_blank'><b>shp_trans_memorial_routes</b>\n",
       "                        </a>\n",
       "                        <br/><img src='https://www.arcgis.com/home/js/jsapi/esri/css/images/item_type_icons/featureshosted16.png' style=\"vertical-align:middle;\">Feature Layer Collection by roach258_UMN\n",
       "                        <br/>Last Modified: September 22, 2022\n",
       "                        <br/>0 comments, 2 views\n",
       "                    </div>\n",
       "                </div>\n",
       "                "
      ],
      "text/plain": [
       "<Item title:\"shp_trans_memorial_routes\" type:Feature Layer Collection owner:roach258_UMN>"
      ]
     },
     "execution_count": 5,
     "metadata": {},
     "output_type": "execute_result"
    }
   ],
   "source": [
    "routes"
   ]
  },
  {
   "cell_type": "code",
   "execution_count": 6,
   "metadata": {},
   "outputs": [
    {
     "ename": "NameError",
     "evalue": "name 'use_proximity' is not defined",
     "output_type": "error",
     "traceback": [
      "\u001b[0;31m---------------------------------------------------------------------------\u001b[0m",
      "\u001b[0;31mNameError\u001b[0m                                 Traceback (most recent call last)",
      "Input \u001b[0;32mIn [6]\u001b[0m, in \u001b[0;36m<cell line: 2>\u001b[0;34m()\u001b[0m\n\u001b[1;32m      1\u001b[0m \u001b[38;5;66;03m# Run the Create Buffers tool \u001b[39;00m\n\u001b[0;32m----> 2\u001b[0m output \u001b[38;5;241m=\u001b[39m \u001b[43muse_proximity\u001b[49m\u001b[38;5;241m.\u001b[39mcreate_buffers(input_layer \u001b[38;5;241m=\u001b[39m routes, \n\u001b[1;32m      3\u001b[0m                                       field \u001b[38;5;241m=\u001b[39m \u001b[38;5;124m\"\u001b[39m\u001b[38;5;124m3 Miles\u001b[39m\u001b[38;5;124m\"\u001b[39m, \n\u001b[1;32m      4\u001b[0m                                       method \u001b[38;5;241m=\u001b[39m \u001b[38;5;124m\"\u001b[39m\u001b[38;5;124mPlanar\u001b[39m\u001b[38;5;124m\"\u001b[39m, \n\u001b[1;32m      5\u001b[0m                                       dissolve_option \u001b[38;5;241m=\u001b[39m \u001b[38;5;124m\"\u001b[39m\u001b[38;5;124mNone\u001b[39m\u001b[38;5;124m\"\u001b[39m, \n\u001b[1;32m      6\u001b[0m                                       output_name \u001b[38;5;241m=\u001b[39m \u001b[38;5;124m\"\u001b[39m\u001b[38;5;124mroutes_buffer\u001b[39m\u001b[38;5;124m\"\u001b[39m)\n",
      "\u001b[0;31mNameError\u001b[0m: name 'use_proximity' is not defined"
     ]
    }
   ],
   "source": [
    "# Run the Create Buffers tool \n",
    "output = use_proximity.create_buffers(input_layer = routes, \n",
    "                                      field = \"3 Miles\", \n",
    "                                      method = \"Planar\", \n",
    "                                      dissolve_option = \"None\", \n",
    "                                      output_name = \"routes_buffer\")"
   ]
  },
  {
   "cell_type": "code",
   "execution_count": 7,
   "metadata": {},
   "outputs": [
    {
     "ename": "ImportError",
     "evalue": "cannot import name 'use_proximity' from 'arcgis' (/opt/conda/lib/python3.9/site-packages/arcgis/__init__.py)",
     "output_type": "error",
     "traceback": [
      "\u001b[0;31m---------------------------------------------------------------------------\u001b[0m",
      "\u001b[0;31mImportError\u001b[0m                               Traceback (most recent call last)",
      "Input \u001b[0;32mIn [7]\u001b[0m, in \u001b[0;36m<cell line: 1>\u001b[0;34m()\u001b[0m\n\u001b[0;32m----> 1\u001b[0m \u001b[38;5;28;01mfrom\u001b[39;00m \u001b[38;5;21;01marcgis\u001b[39;00m \u001b[38;5;28;01mimport\u001b[39;00m use_proximity\n\u001b[1;32m      3\u001b[0m \u001b[38;5;66;03m# Run the Create Buffers tool \u001b[39;00m\n\u001b[1;32m      4\u001b[0m output \u001b[38;5;241m=\u001b[39m use_proximity\u001b[38;5;241m.\u001b[39mcreate_buffers(input_layer \u001b[38;5;241m=\u001b[39m routes, \n\u001b[1;32m      5\u001b[0m                                       field \u001b[38;5;241m=\u001b[39m \u001b[38;5;124m\"\u001b[39m\u001b[38;5;124m3 Miles\u001b[39m\u001b[38;5;124m\"\u001b[39m, \n\u001b[1;32m      6\u001b[0m                                       method \u001b[38;5;241m=\u001b[39m \u001b[38;5;124m\"\u001b[39m\u001b[38;5;124mPlanar\u001b[39m\u001b[38;5;124m\"\u001b[39m, \n\u001b[1;32m      7\u001b[0m                                       dissolve_option \u001b[38;5;241m=\u001b[39m \u001b[38;5;124m\"\u001b[39m\u001b[38;5;124mNone\u001b[39m\u001b[38;5;124m\"\u001b[39m, \n\u001b[1;32m      8\u001b[0m                                       output_name \u001b[38;5;241m=\u001b[39m \u001b[38;5;124m\"\u001b[39m\u001b[38;5;124mroutes_buffer\u001b[39m\u001b[38;5;124m\"\u001b[39m)\n",
      "\u001b[0;31mImportError\u001b[0m: cannot import name 'use_proximity' from 'arcgis' (/opt/conda/lib/python3.9/site-packages/arcgis/__init__.py)"
     ]
    }
   ],
   "source": [
    "from arcgis import use_proximity\n",
    "\n",
    "# Run the Create Buffers tool \n",
    "output = use_proximity.create_buffers(input_layer = routes, \n",
    "                                      field = \"3 Miles\", \n",
    "                                      method = \"Planar\", \n",
    "                                      dissolve_option = \"None\", \n",
    "                                      output_name = \"routes_buffer\")"
   ]
  },
  {
   "cell_type": "code",
   "execution_count": 8,
   "metadata": {},
   "outputs": [
    {
     "ename": "ValueError",
     "evalue": "The shp_trans_memorial_routes is an Item. Please pass the layer instead.",
     "output_type": "error",
     "traceback": [
      "\u001b[0;31m---------------------------------------------------------------------------\u001b[0m",
      "\u001b[0;31mValueError\u001b[0m                                Traceback (most recent call last)",
      "Input \u001b[0;32mIn [8]\u001b[0m, in \u001b[0;36m<cell line: 7>\u001b[0;34m()\u001b[0m\n\u001b[1;32m      4\u001b[0m \u001b[38;5;28;01mfrom\u001b[39;00m \u001b[38;5;21;01marcgis\u001b[39;00m\u001b[38;5;21;01m.\u001b[39;00m\u001b[38;5;21;01mgeoanalytics\u001b[39;00m \u001b[38;5;28;01mimport\u001b[39;00m use_proximity\n\u001b[1;32m      6\u001b[0m \u001b[38;5;66;03m# Run the Create Buffers tool \u001b[39;00m\n\u001b[0;32m----> 7\u001b[0m output \u001b[38;5;241m=\u001b[39m \u001b[43muse_proximity\u001b[49m\u001b[38;5;241;43m.\u001b[39;49m\u001b[43mcreate_buffers\u001b[49m\u001b[43m(\u001b[49m\u001b[43minput_layer\u001b[49m\u001b[43m \u001b[49m\u001b[38;5;241;43m=\u001b[39;49m\u001b[43m \u001b[49m\u001b[43mroutes\u001b[49m\u001b[43m,\u001b[49m\u001b[43m \u001b[49m\n\u001b[1;32m      8\u001b[0m \u001b[43m                                      \u001b[49m\u001b[43mfield\u001b[49m\u001b[43m \u001b[49m\u001b[38;5;241;43m=\u001b[39;49m\u001b[43m \u001b[49m\u001b[38;5;124;43m\"\u001b[39;49m\u001b[38;5;124;43m3 Miles\u001b[39;49m\u001b[38;5;124;43m\"\u001b[39;49m\u001b[43m,\u001b[49m\u001b[43m \u001b[49m\n\u001b[1;32m      9\u001b[0m \u001b[43m                                      \u001b[49m\u001b[43mmethod\u001b[49m\u001b[43m \u001b[49m\u001b[38;5;241;43m=\u001b[39;49m\u001b[43m \u001b[49m\u001b[38;5;124;43m\"\u001b[39;49m\u001b[38;5;124;43mPlanar\u001b[39;49m\u001b[38;5;124;43m\"\u001b[39;49m\u001b[43m,\u001b[49m\u001b[43m \u001b[49m\n\u001b[1;32m     10\u001b[0m \u001b[43m                                      \u001b[49m\u001b[43mdissolve_option\u001b[49m\u001b[43m \u001b[49m\u001b[38;5;241;43m=\u001b[39;49m\u001b[43m \u001b[49m\u001b[38;5;124;43m\"\u001b[39;49m\u001b[38;5;124;43mNone\u001b[39;49m\u001b[38;5;124;43m\"\u001b[39;49m\u001b[43m,\u001b[49m\u001b[43m \u001b[49m\n\u001b[1;32m     11\u001b[0m \u001b[43m                                      \u001b[49m\u001b[43moutput_name\u001b[49m\u001b[43m \u001b[49m\u001b[38;5;241;43m=\u001b[39;49m\u001b[43m \u001b[49m\u001b[38;5;124;43m\"\u001b[39;49m\u001b[38;5;124;43mroutes_buffer\u001b[39;49m\u001b[38;5;124;43m\"\u001b[39;49m\u001b[43m)\u001b[49m\n",
      "File \u001b[0;32m/opt/conda/lib/python3.9/site-packages/arcgis/geoanalytics/use_proximity.py:534\u001b[0m, in \u001b[0;36mcreate_buffers\u001b[0;34m(input_layer, distance, distance_unit, field, method, dissolve_option, dissolve_fields, summary_fields, multipart, output_name, context, gis, future)\u001b[0m\n\u001b[1;32m    531\u001b[0m \u001b[38;5;28;01mif\u001b[39;00m distance \u001b[38;5;129;01mand\u001b[39;00m distance_unit \u001b[38;5;129;01mis\u001b[39;00m \u001b[38;5;28;01mNone\u001b[39;00m:\n\u001b[1;32m    532\u001b[0m     distance_unit \u001b[38;5;241m=\u001b[39m \u001b[38;5;124m\"\u001b[39m\u001b[38;5;124mMiles\u001b[39m\u001b[38;5;124m\"\u001b[39m\n\u001b[0;32m--> 534\u001b[0m input_layer \u001b[38;5;241m=\u001b[39m \u001b[43m_prevent_bds_item\u001b[49m\u001b[43m(\u001b[49m\u001b[43minput_layer\u001b[49m\u001b[43m)\u001b[49m\n\u001b[1;32m    536\u001b[0m gis \u001b[38;5;241m=\u001b[39m _arcgis\u001b[38;5;241m.\u001b[39menv\u001b[38;5;241m.\u001b[39mactive_gis \u001b[38;5;28;01mif\u001b[39;00m gis \u001b[38;5;129;01mis\u001b[39;00m \u001b[38;5;28;01mNone\u001b[39;00m \u001b[38;5;28;01melse\u001b[39;00m gis\n\u001b[1;32m    537\u001b[0m url \u001b[38;5;241m=\u001b[39m gis\u001b[38;5;241m.\u001b[39mproperties\u001b[38;5;241m.\u001b[39mhelperServices\u001b[38;5;241m.\u001b[39mgeoanalytics\u001b[38;5;241m.\u001b[39murl\n",
      "File \u001b[0;32m/opt/conda/lib/python3.9/site-packages/arcgis/geoanalytics/_util.py:15\u001b[0m, in \u001b[0;36m_prevent_bds_item\u001b[0;34m(item)\u001b[0m\n\u001b[1;32m     13\u001b[0m \u001b[38;5;124;03m\"\"\"checks if the input is a valid input for the GeoAnalytics Tool\"\"\"\u001b[39;00m\n\u001b[1;32m     14\u001b[0m \u001b[38;5;28;01mif\u001b[39;00m \u001b[38;5;28misinstance\u001b[39m(item, Item):\n\u001b[0;32m---> 15\u001b[0m     \u001b[38;5;28;01mraise\u001b[39;00m \u001b[38;5;167;01mValueError\u001b[39;00m(\u001b[38;5;124mf\u001b[39m\u001b[38;5;124m\"\u001b[39m\u001b[38;5;124mThe \u001b[39m\u001b[38;5;132;01m{\u001b[39;00mitem\u001b[38;5;241m.\u001b[39mtitle\u001b[38;5;132;01m}\u001b[39;00m\u001b[38;5;124m is an Item. Please pass the layer instead.\u001b[39m\u001b[38;5;124m\"\u001b[39m)\n\u001b[1;32m     16\u001b[0m \u001b[38;5;28;01mreturn\u001b[39;00m item\n",
      "\u001b[0;31mValueError\u001b[0m: The shp_trans_memorial_routes is an Item. Please pass the layer instead."
     ]
    }
   ],
   "source": [
    "# Import the required ArcGIS API for Python modules\n",
    "import arcgis\n",
    "from arcgis.gis import GIS\n",
    "from arcgis.geoanalytics import use_proximity\n",
    "\n",
    "# Run the Create Buffers tool \n",
    "output = use_proximity.create_buffers(input_layer = routes, \n",
    "                                      field = \"3 Miles\", \n",
    "                                      method = \"Planar\", \n",
    "                                      dissolve_option = \"None\", \n",
    "                                      output_name = \"routes_buffer\")"
   ]
  },
  {
   "cell_type": "code",
   "execution_count": 11,
   "metadata": {},
   "outputs": [
    {
     "data": {
      "text/html": [
       "<div class=\"item_container\" style=\"height: auto; overflow: hidden; border: 1px solid #cfcfcf; border-radius: 2px; background: #f6fafa; line-height: 1.21429em; padding: 10px;\">\n",
       "                    <div class=\"item_left\" style=\"width: 210px; float: left;\">\n",
       "                       <a href='https://www.arcgis.com/home/item.html?id=8bfb8853053f440e835159dae09b7a62' target='_blank'>\n",
       "                        <img src='http://static.arcgis.com/images/desktopapp.png' class=\"itemThumbnail\">\n",
       "                       </a>\n",
       "                    </div>\n",
       "\n",
       "                    <div class=\"item_right\"     style=\"float: none; width: auto; overflow: hidden;\">\n",
       "                        <a href='https://www.arcgis.com/home/item.html?id=8bfb8853053f440e835159dae09b7a62' target='_blank'><b>routes_buffer</b>\n",
       "                        </a>\n",
       "                        <br/><img src='https://www.arcgis.com/home/js/jsapi/esri/css/images/item_type_icons/featureshosted16.png' style=\"vertical-align:middle;\">Feature Layer Collection by roach258_UMN\n",
       "                        <br/>Last Modified: September 22, 2022\n",
       "                        <br/>0 comments, 0 views\n",
       "                    </div>\n",
       "                </div>\n",
       "                "
      ],
      "text/plain": [
       "<Item title:\"routes_buffer\" type:Feature Layer Collection owner:roach258_UMN>"
      ]
     },
     "execution_count": 11,
     "metadata": {},
     "output_type": "execute_result"
    }
   ],
   "source": [
    "#created feature\n",
    "from arcgis import features\n",
    "\n",
    "routes\n",
    "\n",
    "features.use_proximity.create_buffers(input_layer= routes, output_name= \"routes_buffer\", distances=[3], units= 'Miles')"
   ]
  },
  {
   "cell_type": "code",
   "execution_count": null,
   "metadata": {},
   "outputs": [],
   "source": []
  }
 ],
 "metadata": {
  "esriNotebookRuntime": {
   "notebookRuntimeName": "ArcGIS Notebook Python 3 Standard",
   "notebookRuntimeVersion": "7.0"
  },
  "kernelspec": {
   "display_name": "Python 3 (ipykernel)",
   "language": "python",
   "name": "python3"
  },
  "language_info": {
   "codemirror_mode": {
    "name": "ipython",
    "version": 3
   },
   "file_extension": ".py",
   "mimetype": "text/x-python",
   "name": "python",
   "nbconvert_exporter": "python",
   "pygments_lexer": "ipython3",
   "version": "3.9.11"
  }
 },
 "nbformat": 4,
 "nbformat_minor": 2
}
